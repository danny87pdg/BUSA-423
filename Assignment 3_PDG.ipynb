{
 "cells": [
  {
   "cell_type": "markdown",
   "id": "74b86531",
   "metadata": {},
   "source": [
    "# 1. Creating a Class\n",
    "\n",
    "- Student: Last, First\n",
    "- Country\n",
    "- Overall Grade (0-4.0 scale)\n",
    "- Credits Completed (total 30)\n"
   ]
  },
  {
   "cell_type": "code",
   "execution_count": 48,
   "id": "13a14f15",
   "metadata": {},
   "outputs": [
    {
     "data": {
      "text/plain": [
       "'Progress: Average'"
      ]
     },
     "execution_count": 48,
     "metadata": {},
     "output_type": "execute_result"
    }
   ],
   "source": [
    "class student:\n",
    "    def __init__(self, name, country, grade, cr_completed, major):\n",
    "        self.student = name\n",
    "        self.country = country\n",
    "        self.grade = grade\n",
    "        self.credits_completed = cr_completed\n",
    "        self.major = major\n",
    "\n",
    "    def progress(self):\n",
    "        if (self.grade > 3.0 and self.credits_completed > 20):\n",
    "            progress=\"Progress: Good\"\n",
    "        if (self.grade > 2.5 or self.credits_completed >= 10 and self.credits_completed <= 20):\n",
    "            progress=\"Progress: Average\"\n",
    "        if (self.grade < 2.5):\n",
    "            progress=\"Progress: Bad\"\n",
    "        return progress\n",
    "    \n",
    "        \n",
    "student_1 = student('Jane Doe', 'United States', 2.6, 19, 'Business')\n",
    "student_2 = student('John Doe', 'United States', 3.6, 28, 'Engineering')\n",
    "student_3 = student('Mary Jones', 'United States', 2.3, 16, 'Criminal Justice')\n",
    "    \n",
    "student_2.progress()"
   ]
  },
  {
   "cell_type": "markdown",
   "id": "a1e4b732",
   "metadata": {},
   "source": [
    "## 2. Function: +- List\n",
    "\n",
    "- Input:[-6,5,-3,-2,1,0,-8,9,3]\n",
    "- Output:[-6,-3,-2,-8], [5,1,9,3]"
   ]
  },
  {
   "cell_type": "code",
   "execution_count": 36,
   "id": "8d74217f",
   "metadata": {
    "scrolled": true
   },
   "outputs": [
    {
     "name": "stdout",
     "output_type": "stream",
     "text": [
      "Output: [[-6, -3, -2, -8], [5, 1, 0, 9, 3]]\n"
     ]
    }
   ],
   "source": [
    "def positive_negative(number):\n",
    "    num_list = []\n",
    "    positive_list = []\n",
    "    negative_list = []\n",
    "    \n",
    "    for x in number:\n",
    "        if x >= 0:\n",
    "            positive_list.append(x)\n",
    "        else:\n",
    "            negative_list.append(x)\n",
    "    num_list.append(negative_list)\n",
    "    num_list.append(positive_list)\n",
    "    return num_list\n",
    "\n",
    "number = [-6,5,-3,-2,1,0,-8,9,3]\n",
    "output = positive_negative(number)\n",
    "\n",
    "print(\"Output:\", output)"
   ]
  },
  {
   "cell_type": "markdown",
   "id": "aafcb027",
   "metadata": {},
   "source": [
    "### 3. Black Jack\n",
    "\n",
    "- Dealer is dealt only 2 cards\n",
    "- Score always between 15 and 21\n",
    "- Input: 18 [player's final score]\n",
    "- Output - [(9,10), (10,11), (10,10), (11,9), (11,8)]"
   ]
  },
  {
   "cell_type": "code",
   "execution_count": 46,
   "id": "d6758d11",
   "metadata": {},
   "outputs": [
    {
     "name": "stdout",
     "output_type": "stream",
     "text": [
      "[[8, 11], [9, 10], [9, 11], [10, 10], [10, 11]]\n"
     ]
    }
   ],
   "source": [
    "def Hand(playersHand):\n",
    "    dealersHand = []\n",
    "\n",
    "    for x in range(1, 12):\n",
    "        for y in range(1, 12):\n",
    "            if x + y > playersHand:\n",
    "                if x + y > 21:\n",
    "                    continue\n",
    "                elif [y,x] in dealersHand:\n",
    "                    continue\n",
    "                else:\n",
    "                    dealersHand.append([x,y])\n",
    "    return dealersHand\n",
    "print(Hand(18))"
   ]
  },
  {
   "cell_type": "code",
   "execution_count": null,
   "id": "b6a77a52",
   "metadata": {},
   "outputs": [],
   "source": []
  }
 ],
 "metadata": {
  "kernelspec": {
   "display_name": "Python 3 (ipykernel)",
   "language": "python",
   "name": "python3"
  },
  "language_info": {
   "codemirror_mode": {
    "name": "ipython",
    "version": 3
   },
   "file_extension": ".py",
   "mimetype": "text/x-python",
   "name": "python",
   "nbconvert_exporter": "python",
   "pygments_lexer": "ipython3",
   "version": "3.9.12"
  }
 },
 "nbformat": 4,
 "nbformat_minor": 5
}
