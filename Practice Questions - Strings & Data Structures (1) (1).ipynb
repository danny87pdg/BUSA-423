{
 "cells": [
  {
   "cell_type": "markdown",
   "id": "bc203c58",
   "metadata": {},
   "source": [
    "## Practice Questions - Strings & Data Structures"
   ]
  },
  {
   "cell_type": "markdown",
   "id": "44bd5425",
   "metadata": {},
   "source": [
    "#### Question 1: \n",
    "\n",
    "Given an original list consiting of values: 22, 41, 33, 66, 8, 12 and 90. Use **append(), extend(), insert(), and concatenation** to add the values 32, 45, 16 and 11 to the list. "
   ]
  },
  {
   "cell_type": "code",
   "execution_count": 11,
   "id": "67d75946",
   "metadata": {},
   "outputs": [
    {
     "name": "stdout",
     "output_type": "stream",
     "text": [
      "[22, 41, 33, 66, 8, 12, 90, 32, 45, 16, 11]\n",
      "[22, 41, 33, 66, 8, 12, 90, 32, 45, 16, 11]\n",
      "[22, 41, 33, 66, 8, 12, 90, 32, 45, 16, 11]\n",
      "[22, 41, 33, 66, 8, 12, 90, 32, 45, 16, 11]\n"
     ]
    }
   ],
   "source": [
    "# Append()\n",
    "\n",
    "sales = [22, 41, 33, 66, 8, 12, 90]\n",
    "for i in [32, 45, 16, 11]:\n",
    "    sales.append(i)\n",
    "print(sales)\n",
    "\n",
    "# Extend()\n",
    "\n",
    "sales = [22, 41, 33, 66, 8, 12, 90]\n",
    "new_sales = [32, 45, 16, 11]\n",
    "sales.extend(new_sales)\n",
    "print(sales)\n",
    "\n",
    "# Insert()\n",
    "\n",
    "sales = [22, 41, 33, 66, 8, 12, 90]\n",
    "sales_insert = [32, 45, 16, 11]\n",
    "\n",
    "sales += sales_insert\n",
    "print(sales)\n",
    "\n",
    "# Concatenation\n",
    "sales = [22, 41, 33, 66, 8, 12, 90]\n",
    "new_sales = [32, 45, 16, 11]\n",
    "sales = sales + new_sales\n",
    "print(sales)\n"
   ]
  },
  {
   "cell_type": "markdown",
   "id": "9bdbb16a",
   "metadata": {},
   "source": [
    "#### Question 2: \n",
    "\n",
    "Write a Python program that tests whether a list is empty or not. Repeat the task for testing an empty string."
   ]
  },
  {
   "cell_type": "code",
   "execution_count": null,
   "id": "152a1ba8",
   "metadata": {},
   "outputs": [],
   "source": []
  },
  {
   "cell_type": "markdown",
   "id": "927cce91",
   "metadata": {},
   "source": [
    "#### Question 3: \n",
    "\n",
    "- How many times does \"dream\" appear in the text?\n",
    "\n",
    "- Where is this text from? \n",
    "\n",
    "- Create a python code to print the text.\n",
    "\n",
    "Dream on\\\n",
    "Dream on\\\n",
    "I dream on\\\n",
    "Dream a little, I'll dream on\\\n",
    "Dream on\\\n",
    "I dream on\\\n",
    "I dream on\n",
    "\n",
    "Dream a little, I'll dream on\\\n",
    "Dream on\\\n",
    "Dream on\\\n",
    "Dream on\\\n",
    "I'll dream on\\\n",
    "Dream on\\\n",
    "Dream on\\\n",
    "I dream on"
   ]
  },
  {
   "cell_type": "code",
   "execution_count": null,
   "id": "85ab54e8",
   "metadata": {},
   "outputs": [],
   "source": []
  },
  {
   "cell_type": "markdown",
   "id": "f5f2fff5",
   "metadata": {},
   "source": [
    "#### Question 4: \n",
    "\n",
    "Create a dictionary, with keys being the name of employees: Oliver, Myers, Noah and Fallon. \n",
    "\n",
    "Add the values age (random - between 40 and 60), income (random between 100,000 and 150,000) and rating (random between 3.0 and 5.0) "
   ]
  },
  {
   "cell_type": "code",
   "execution_count": null,
   "id": "ffdf510a",
   "metadata": {},
   "outputs": [],
   "source": []
  },
  {
   "cell_type": "markdown",
   "id": "56396df1",
   "metadata": {},
   "source": [
    "#### Question 5: \n",
    "\n",
    "Create the following student data into 2 sub dictionaries based on the scores. (score <= 10 & score > 10)"
   ]
  },
  {
   "cell_type": "code",
   "execution_count": null,
   "id": "4c265e31",
   "metadata": {},
   "outputs": [],
   "source": [
    "students = {\"student_1\" : 13 , \"student_2\" : 17 , \"student_3\" : 9 , \"student_4\" : 15 , \"student_5\" : 8 , \"student_6\" : 14 , \n",
    "            \"student_7\" : 16 , \"student_8\" : 12 , \"student_9\" : 13 , \"student_10\" : 15 , \"student_11\" : 14 , \"student_112\" : 9 , \n",
    "            \"student_13\" : 10 , \"student_14\" : 12 , \"student_15\" : 13 , \"student_16\" : 7 , \"student_17\" : 12 , \"student_18\" : 15 , \n",
    "            \"student_19\" : 9 , \"student_20\" : 17 ,}"
   ]
  },
  {
   "cell_type": "markdown",
   "id": "a2127ddc",
   "metadata": {},
   "source": [
    "#### Question 6: \n",
    "\n",
    "\n",
    "Write a python program that asks the user to enter an integer n and return a dictionary whose keys are integers 1, 2, 3, ... n and whose values ​​are 1! , 2! , 3! , … , n!"
   ]
  },
  {
   "cell_type": "code",
   "execution_count": null,
   "id": "07c7a0f6",
   "metadata": {},
   "outputs": [],
   "source": []
  },
  {
   "cell_type": "markdown",
   "id": "73eb3c1f",
   "metadata": {},
   "source": [
    "#### Question 7: \n",
    "    \n",
    "Write a program to identify the largest word in a string."
   ]
  },
  {
   "cell_type": "code",
   "execution_count": null,
   "id": "5d57e16f",
   "metadata": {},
   "outputs": [],
   "source": []
  },
  {
   "cell_type": "markdown",
   "id": "395aa221",
   "metadata": {},
   "source": [
    "#### Question 8: \n",
    "    \n",
    "Given an integer array, write a program to identify all the rows with values greater than the mean of the entire data."
   ]
  },
  {
   "cell_type": "code",
   "execution_count": null,
   "id": "c02f79db",
   "metadata": {},
   "outputs": [],
   "source": []
  },
  {
   "cell_type": "markdown",
   "id": "2c897176",
   "metadata": {},
   "source": [
    "#### Question 9: \n",
    "    \n",
    "Given an array of strings, write a program to create a new array which contains the lengths of the strings in ascending order"
   ]
  },
  {
   "cell_type": "code",
   "execution_count": null,
   "id": "394d79e3",
   "metadata": {},
   "outputs": [],
   "source": []
  },
  {
   "cell_type": "markdown",
   "id": "12af2109",
   "metadata": {},
   "source": [
    "#### Question 10: \n",
    "    \n",
    "Write a program to calculate the sum of the diagonal elements of a **n X n** matrix. "
   ]
  },
  {
   "cell_type": "code",
   "execution_count": null,
   "id": "fb671b54",
   "metadata": {},
   "outputs": [],
   "source": []
  }
 ],
 "metadata": {
  "kernelspec": {
   "display_name": "Python 3 (ipykernel)",
   "language": "python",
   "name": "python3"
  },
  "language_info": {
   "codemirror_mode": {
    "name": "ipython",
    "version": 3
   },
   "file_extension": ".py",
   "mimetype": "text/x-python",
   "name": "python",
   "nbconvert_exporter": "python",
   "pygments_lexer": "ipython3",
   "version": "3.9.12"
  }
 },
 "nbformat": 4,
 "nbformat_minor": 5
}
