{
 "cells": [
  {
   "cell_type": "markdown",
   "id": "1834e7af",
   "metadata": {},
   "source": [
    "## Practice Questions - Functions\n",
    "\n",
    "### Create functions for problems from weeks 1 & 2"
   ]
  },
  {
   "cell_type": "markdown",
   "id": "3edc9f62",
   "metadata": {},
   "source": [
    "#### Question 1: \n",
    "\n",
    "Create a function which takes 2 lists and a choice of **append(), extend(), insert(), and concatenation**, then returns the added list according to the selected choice. \n",
    "\n",
    "function call &rarr; add_lists (list_1, list_2, use_append) \\\n",
    "returns &rarr; [list_1, list_2]"
   ]
  },
  {
   "cell_type": "code",
   "execution_count": 5,
   "id": "b33faca1",
   "metadata": {},
   "outputs": [
    {
     "name": "stdout",
     "output_type": "stream",
     "text": [
      "['ENGL', 'GOVT', 'SPAN', 'HIST', 1301, 2306, 1411, 1301]\n"
     ]
    }
   ],
   "source": [
    "subjects = ['ENGL', 'GOVT', 'SPAN', 'HIST']\n",
    "course = [1301, 2306, 1411, 1301]\n",
    "subjects.extend(course)\n",
    "\n",
    "print(subjects)"
   ]
  },
  {
   "cell_type": "markdown",
   "id": "3c3007cb",
   "metadata": {},
   "source": [
    "#### Question 2: \n",
    "\n",
    "Write a function that tests whether a list or a string is empty or not. \n",
    "\n",
    "function call &rarr; test_empty (list_1)\\\n",
    "returns &rarr; true or false"
   ]
  },
  {
   "cell_type": "code",
   "execution_count": null,
   "id": "ac34d0bc",
   "metadata": {},
   "outputs": [],
   "source": []
  },
  {
   "cell_type": "markdown",
   "id": "42dcfc84",
   "metadata": {},
   "source": [
    "#### Question 3:\n",
    "\n",
    "Write a function that takes an integer n and return a dictionary whose keys are integers 1, 2, 3, ... n and whose values ​​are 1! , 2! , 3! , … , n!\n",
    "\n",
    "function call &rarr; factorial_dict (3)\\\n",
    "returns &rarr; { 1 : 1, 2 : 2, 3 : 6 }"
   ]
  },
  {
   "cell_type": "code",
   "execution_count": null,
   "id": "cf3950b9",
   "metadata": {},
   "outputs": [],
   "source": []
  },
  {
   "cell_type": "markdown",
   "id": "dda2ad27",
   "metadata": {},
   "source": [
    "#### Question 4: \n",
    "    \n",
    "Write a function to identify the largest word in a string.\n",
    "\n",
    "function call &rarr; largest_word (\"Fear leads to anger, anger leads to hate, hate leads to suffering.\")\\\n",
    "returns &rarr; \"suffering\""
   ]
  },
  {
   "cell_type": "code",
   "execution_count": 6,
   "id": "792fed25",
   "metadata": {},
   "outputs": [
    {
     "name": "stdout",
     "output_type": "stream",
     "text": [
      "Enter the sentence: Fear leads to anger, anger leads to hate, hate leads to suffering\n",
      "The longest word in the sentence is:  suffering\n"
     ]
    }
   ],
   "source": [
    "str = input('Enter the sentence: ')\n",
    "s = str.split()\n",
    "max = 0\n",
    "for ele in s:\n",
    "    if len(ele)>max:\n",
    "        max=len(ele)\n",
    "        word=ele\n",
    "print(\"The longest word in the sentence is: \", word)"
   ]
  },
  {
   "cell_type": "markdown",
   "id": "c4af06ad",
   "metadata": {},
   "source": [
    "#### Question 5: \n",
    "    \n",
    "Write a function to calculate the sum of the diagonal elements of a **n X n** matrix. \n",
    "\n",
    "function call &rarr; diagonal_sum(   [ [ 1  4  7 ]\n",
    " [ 2  5  8 ]\n",
    " [ 3  6  9 ] ] )\\\n",
    "returns &rarr; 15"
   ]
  },
  {
   "cell_type": "code",
   "execution_count": null,
   "id": "779fa0af",
   "metadata": {},
   "outputs": [],
   "source": []
  },
  {
   "cell_type": "markdown",
   "id": "e18dcbdd",
   "metadata": {},
   "source": [
    "#### Question 6: Given a student score (between 0 and 100), write a function to evaluate the following criteria.\n",
    "\n",
    "- Elgible for funding if the score is greater than 90\n",
    "- Fail if the score is less than 70\n",
    "- Need tutoring if they are not qualified for funding and havent failed.\n",
    " \n",
    "function call → student_assessment(67)\\\n",
    "returns → Fail"
   ]
  },
  {
   "cell_type": "code",
   "execution_count": null,
   "id": "520a6017",
   "metadata": {},
   "outputs": [],
   "source": []
  },
  {
   "cell_type": "markdown",
   "id": "303ae729",
   "metadata": {},
   "source": [
    "#### Question 7: Write a function to check if the given year is a leap year.\n",
    "\n",
    "function call → cheap_leap(1995)\\\n",
    "returns → \"No\""
   ]
  },
  {
   "cell_type": "code",
   "execution_count": null,
   "id": "748911cd",
   "metadata": {},
   "outputs": [],
   "source": []
  },
  {
   "cell_type": "markdown",
   "id": "67ea7a6a",
   "metadata": {},
   "source": [
    "#### Question 8: Write a function which returns the number of days in the given month. (You can assume 28 days for February)\n",
    "\n",
    "function call → get_days(\"January\")\\\n",
    "returns → 31"
   ]
  },
  {
   "cell_type": "code",
   "execution_count": null,
   "id": "afdf7ac2",
   "metadata": {},
   "outputs": [],
   "source": []
  },
  {
   "cell_type": "markdown",
   "id": "983b7e74",
   "metadata": {},
   "source": [
    "#### Question 9: Write a function which takes the user's weight(in lbs) and height(in inches), and then returns the bmi using the below formula.\n",
    "\n",
    "BMI = Weight X 0.45359/((Height X 0.0254) X Height X 0.0254))\n",
    "\n",
    "function call → calculate_bmi(150, 70)\\\n",
    "returns → 21.522"
   ]
  },
  {
   "cell_type": "code",
   "execution_count": null,
   "id": "41fcb0a5",
   "metadata": {},
   "outputs": [],
   "source": []
  },
  {
   "cell_type": "markdown",
   "id": "273584f9",
   "metadata": {},
   "source": [
    "#### Question 10: Write a function to check whether a number is prime or not.\n",
    "\n",
    "function call → check_prime(13)\\\n",
    "returns → \"True\""
   ]
  },
  {
   "cell_type": "code",
   "execution_count": 14,
   "id": "3946d678",
   "metadata": {},
   "outputs": [
    {
     "name": "stdout",
     "output_type": "stream",
     "text": [
      "Enter number to check if prime: 13\n",
      "True\n"
     ]
    }
   ],
   "source": [
    "def prime(n):\n",
    "    if (n < 2):\n",
    "        return False\n",
    "    for i in range(2,n//2+1):\n",
    "        if(n%i==0):\n",
    "            return False\n",
    "        return True\n",
    "\n",
    "no=int(input(\"Enter number to check if prime: \"))\n",
    "if prime(no):\n",
    "    print(\"True\")\n",
    "else:\n",
    "    print(\"False\")"
   ]
  },
  {
   "cell_type": "code",
   "execution_count": null,
   "id": "07782760",
   "metadata": {},
   "outputs": [],
   "source": []
  },
  {
   "cell_type": "code",
   "execution_count": null,
   "id": "1b42fc30",
   "metadata": {},
   "outputs": [],
   "source": []
  }
 ],
 "metadata": {
  "kernelspec": {
   "display_name": "Python 3 (ipykernel)",
   "language": "python",
   "name": "python3"
  },
  "language_info": {
   "codemirror_mode": {
    "name": "ipython",
    "version": 3
   },
   "file_extension": ".py",
   "mimetype": "text/x-python",
   "name": "python",
   "nbconvert_exporter": "python",
   "pygments_lexer": "ipython3",
   "version": "3.9.12"
  }
 },
 "nbformat": 4,
 "nbformat_minor": 5
}
